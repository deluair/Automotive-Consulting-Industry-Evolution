{
 "cells": [
  {
   "cell_type": "markdown",
   "metadata": {},
   "source": [
    "# Chinese Vehicle Manufacturer Global Expansion Analysis\n",
    "\n",
    "This notebook demonstrates how to use the Chinese Manufacturer Expansion module to simulate and analyze the global expansion of Chinese automakers from 2025 to 2040."
   ]
  },
  {
   "cell_type": "markdown",
   "metadata": {},
   "source": [
    "## 1. Setup and Imports"
   ]
  },
  {
   "cell_type": "code",
   "execution_count": null,
   "metadata": {},
   "outputs": [],
   "source": [
    "import sys\n",
    "import os\n",
    "import pandas as pd\n",
    "import matplotlib.pyplot as plt\n",
    "import seaborn as sns\n",
    "\n",
    "# Add src to path\n",
    "sys.path.append(os.path.abspath(os.path.join('..', '..', 'src')))\n",
    "\n",
    "from models.industry_reconfiguration.chinese_manufacturer_expansion import (\n",
    "    run_chinese_expansion_simulation,\n",
    "    plot_chinese_expansion_results\n",
    ")"
   ]
  },
  {
   "cell_type": "markdown",
   "metadata": {},
   "source": [
    "## 2. Run the Simulation"
   ]
  },
  {
   "cell_type": "code",
   "execution_count": null,
   "metadata": {},
   "outputs": [],
   "source": [
    "# Run the simulation from 2025 to 2040\n",
    "results = run_chinese_expansion_simulation(\n",
    "    start_year=2025,\n",
    "    end_year=2040,\n",
    "    regions=['CHINA', 'EUROPE', 'NORTH_AMERICA', 'EMERGING_MARKETS'],\n",
    "    segments=['EV', 'MASS_MARKET', 'PREMIUM', 'LUXURY']\n",
    ")"
   ]
  },
  {
   "cell_type": "markdown",
   "metadata": {},
   "source": [
    "## 3. Analyze Results"
   ]
  },
  {
   "cell_type": "code",
   "execution_count": null,
   "metadata": {},
   "outputs": [],
   "source": [
    "# Load the saved data\n",
    "df = pd.read_csv('../../data/processed_data/chinese_expansion/market_share_evolution.csv')\n",
    "summary_df = pd.read_csv('../../data/processed_data/chinese_expansion/market_share_summary.csv')\n",
    "\n",
    "# Display the first few rows\n",
    "print(\"Market Share Evolution Data:\")\n",
    "display(df.head())\n",
    "\n",
    "print(\"\\nMarket Share Summary Data:\")\n",
    "display(summary_df.head())"
   ]
  },
  {
   "cell_type": "markdown",
   "metadata": {},
   "source": [
    "## 4. Visualize Market Share by Region"
   ]
  },
  {
   "cell_type": "code",
   "execution_count": null,
   "metadata": {},
   "outputs": [],
   "source": [
    "# Create a figure with two subplots\n",
    "fig, (ax1, ax2) = plt.subplots(1, 2, figsize=(18, 6))\n",
    "\n",
    "# Plot 1: Market share by region\n",
    "sns.lineplot(data=df, x='year', y='market_share', hue='region', ax=ax1)\n",
    "ax1.set_title('Chinese Automakers Market Share by Region (2025-2040)')\n",
    "ax1.set_xlabel('Year')\n",
    "ax1.set_ylabel('Market Share')\n",
    "ax1.legend(title='Region', bbox_to_anchor=(1.05, 1), loc='upper left')\n",
    "\n",
    "# Plot 2: Market share by segment\n",
    "sns.lineplot(data=df, x='year', y='market_share', hue='segment', ax=ax2)\n",
    "ax2.set_title('Chinese Automakers Market Share by Segment (2025-2040)')\n",
    "ax2.set_xlabel('Year')\n",
    "ax2.set_ylabel('Market Share')\n",
    "ax2.legend(title='Segment', bbox_to_anchor=(1.05, 1), loc='upper left')\n",
    "\n",
    "plt.tight_layout()\n",
    "plt.show()"
   ]
  },
  {
   "cell_type": "markdown",
   "metadata": {},
   "source": [
    "## 5. Analyze Expansion Strategies"
   ]
  },
  {
   "cell_type": "code",
   "execution_count": null,
   "metadata": {},
   "outputs": [],
   "source": [
    "# Count strategy usage by manufacturer\n",
    "strategy_counts = df.groupby(['manufacturer', 'strategy']).size().unstack().fillna(0)\n",
    "\n",
    "# Plot strategy usage\n",
    "plt.figure(figsize=(12, 6))\n",
    "strategy_counts.plot(kind='bar', stacked=True, ax=plt.gca())\n",
    "plt.title('Expansion Strategy Usage by Chinese Automaker (2025-2040)')\n",
    "plt.xlabel('Manufacturer')\n",
    "plt.ylabel('Number of Market Entries')\n",
    "plt.xticks(rotation=45, ha='right')\n",
    "plt.legend(title='Strategy', bbox_to_anchor=(1.05, 1), loc='upper left')\n",
    "plt.tight_layout()\n",
    "plt.show()"
   ]
  },
  {
   "cell_type": "markdown",
   "metadata": {},
   "source": [
    "## 6. Save Visualizations"
   ]
  },
  {
   "cell_type": "code",
   "execution_count": null,
   "metadata": {},
   "outputs": [],
   "source": [
    "# Create output directory if it doesn't exist\n",
    "os.makedirs('../../reports/figures', exist_ok=True)\n",
    "\n",
    "# Save the main visualization\n",
    "plot_chinese_expansion_results(\n",
    "    results,\n",
    "    save_path='../../reports/figures/chinese_expansion.png'\n",
    ")\n",
    "\n",
    "print(\"Visualizations saved to reports/figures/\")"
   ]
  },
  {
   "cell_type": "markdown",
   "metadata": {},
   "source": [
    "## 7. Key Insights"
   ]
  },
  {
   "cell_type": "markdown",
   "metadata": {},
   "source": [
    "1. **Market Penetration**: Chinese automakers are projected to significantly increase their market share in both developed and emerging markets by 2040.\n",
    "2. **Segment Dominance**: The EV segment shows the highest growth potential for Chinese manufacturers.\n",
    "3. **Regional Strategies**: Different regions show varying levels of adoption, with emerging markets being more receptive to Chinese brands.\n",
    "4. **Strategy Evolution**: The simulation shows a shift from export-based strategies to local production and joint ventures as market presence grows."
   ]
  }
 ],
 "metadata": {
  "kernelspec": {
   "display_name": "Python 3",
   "language": "python",
   "name": "python3"
  },
  "language_info": {
   "codemirror_mode": {
    "name": "ipython",
    "version": 3
   },
   "file_extension": ".py",
   "mimetype": "text/x-python",
   "name": "python",
   "nbconvert_exporter": "python",
   "pygments_lexer": "ipython3",
   "version": "3.8.0"
  }
 },
 "nbformat": 4,
 "nbformat_minor": 4
}
